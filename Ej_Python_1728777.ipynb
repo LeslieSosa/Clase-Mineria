{
 "cells": [
  {
   "cell_type": "markdown",
   "metadata": {},
   "source": [
    "# Ejercicio 1: \n",
    "Realiza una variable con tu matricula y realiza una secuencia de imprimir con tu nombre y tu matricula concatenados."
   ]
  },
  {
   "cell_type": "code",
   "execution_count": 103,
   "metadata": {},
   "outputs": [
    {
     "name": "stdout",
     "output_type": "stream",
     "text": [
      "1728777 Leslie Paola Navarro Sosa\n"
     ]
    }
   ],
   "source": [
    "Matricula = 1728777\n",
    "print(Matricula, \"Leslie Paola Navarro Sosa\")"
   ]
  },
  {
   "cell_type": "markdown",
   "metadata": {},
   "source": [
    "# Ejercicio 2:\n",
    "Pidiendo el input del usuario pide dos números y crea una pequeña calculadora con los operadores básicos de suma, resta, multiplicación, división, y exponente."
   ]
  },
  {
   "cell_type": "code",
   "execution_count": 147,
   "metadata": {},
   "outputs": [
    {
     "name": "stdout",
     "output_type": "stream",
     "text": [
      "CALCULADORA\n",
      " 1)Suma\n",
      " 2)Resta\n",
      " 3)Multiplicacion\n",
      " 4)Division\n",
      " 5)Exponente\n",
      " Elige una opcion: 4\n",
      "Introduce un numero: 8\n",
      "Introduce otro numero: 2\n",
      "La division de 8.0 / 2.0  es: 4.0\n"
     ]
    }
   ],
   "source": [
    "opcion = int(input(\"CALCULADORA\\n 1)Suma\\n 2)Resta\\n 3)Multiplicacion\\n 4)Division\\n 5)Exponente\\n Elige una opcion: \"))\n",
    "if opcion == 1:\n",
    "    n1 = float(input(\"Introduce un numero: \"))\n",
    "    n2 = float(input(\"Introduce otro numero: \"))\n",
    "    suma = n1+n2\n",
    "    print(\"La suma de\",n1,\"+\",n2,\" es:\",suma)\n",
    "elif opcion == 2:\n",
    "    n1 = float(input(\"Introduce un numero: \"))\n",
    "    n2 = float(input(\"Introduce otro numero: \"))\n",
    "    resta = n1-n2\n",
    "    print(\"La resta de\",n1,\"-\",n2,\" es:\",resta)\n",
    "elif opcion == 3:\n",
    "    n1 = float(input(\"Introduce un numero: \"))\n",
    "    n2 = float(input(\"Introduce otro numero: \"))\n",
    "    mult = n1*n2\n",
    "    print(\"La multiplicacion de\",n1,\"*\",n2,\" es:\",mult)\n",
    "elif opcion == 4:\n",
    "    n1 = float(input(\"Introduce un numero: \"))\n",
    "    n2 = float(input(\"Introduce otro numero: \"))\n",
    "    div = n1/n2\n",
    "    print(\"La division de\",n1,\"/\",n2,\" es:\",div)\n",
    "elif opcion == 5:\n",
    "    n1 = float(input(\"Introduce un numero: \"))\n",
    "    n2 = float(input(\"Introduce otro numero: \"))\n",
    "    exp = n1**n2\n",
    "    print(n1,\"Elevado a la \",n2,\"es: \",exp)\n",
    "else:\n",
    "    print(\"Vuelva a intentarlo, opcion no valida\")\n",
    "    \n",
    "    "
   ]
  },
  {
   "cell_type": "markdown",
   "metadata": {},
   "source": [
    "# Ejercicio 3:\n",
    "Con loop while o for, realiza una lista de 10 numeros multiplos de 3, y después realiza una función de loop que sume todos los números dentro del arreglo."
   ]
  },
  {
   "cell_type": "code",
   "execution_count": 150,
   "metadata": {},
   "outputs": [
    {
     "name": "stdout",
     "output_type": "stream",
     "text": [
      "Introduce un numero multiplo de 3: 3\n",
      "Introduce un numero multiplo de 3: 6\n",
      "Introduce un numero multiplo de 3: 9\n",
      "Introduce un numero multiplo de 3: 12\n",
      "Introduce un numero multiplo de 3: 15\n",
      "Introduce un numero multiplo de 3: 18\n",
      "Introduce un numero multiplo de 3: 21\n",
      "Introduce un numero multiplo de 3: 24\n",
      "Introduce un numero multiplo de 3: 27\n",
      "Introduce un numero multiplo de 3: 30\n",
      "Lista:  [3, 6, 9, 12, 15, 18, 21, 24, 27, 30]\n",
      "La suma de la lista es:  165\n"
     ]
    }
   ],
   "source": [
    "lista =[]\n",
    "for i in range(1,11):\n",
    "    n = int(input(\"Introduce un numero multiplo de 3: \"))\n",
    "    residuo = n%3\n",
    "    if residuo == 0:\n",
    "        lista.append(n)\n",
    "        suma = sum(lista)\n",
    "    else:\n",
    "        print(\"Este numero no es multiplo de 3\")\n",
    "print(\"Lista: \",lista)    \n",
    "print(\"La suma de la lista es: \",suma)\n",
    "   "
   ]
  },
  {
   "cell_type": "markdown",
   "metadata": {},
   "source": [
    "# Ejercicio 4\n",
    "- Con una función de if else, revisar si un número es par o es impar.\n",
    "- Con una función de if else, revisar si un número es primo o no.\n"
   ]
  },
  {
   "cell_type": "code",
   "execution_count": 158,
   "metadata": {},
   "outputs": [
    {
     "name": "stdout",
     "output_type": "stream",
     "text": [
      "Introduce un numero entero: 19\n",
      "El numero 19 es impar\n",
      "El numero 19 es primo\n"
     ]
    }
   ],
   "source": [
    "num = int(input(\"Introduce un numero entero: \"))\n",
    "residuo = num%2\n",
    "if residuo == 0:\n",
    "    print(\"El numero\",num, \"es par\")\n",
    "else:\n",
    "    print(\"El numero\",num, \"es impar\")\n",
    "contar = 0\n",
    "for i in range(2,num):\n",
    "    if num%i == 0:\n",
    "        contar+=1\n",
    "if contar > 0:\n",
    "    print(\"El numero\",num, \"no es primo\")\n",
    "else:\n",
    "    print(\"El numero\",num, \"es primo\")"
   ]
  },
  {
   "cell_type": "markdown",
   "metadata": {},
   "source": [
    "# Ejercicio 5:\n",
    "Utilizando diferentes clases en python, crea una calculadora con los operadores básicos de suma, resta, multiplicación, división, y exponente."
   ]
  },
  {
   "cell_type": "code",
   "execution_count": 206,
   "metadata": {},
   "outputs": [
    {
     "name": "stdout",
     "output_type": "stream",
     "text": [
      "La suma de 5 + 5  es: 10\n",
      "La resta de 5 - 5  es: 0\n",
      "La multiplicacion de 5 * 5  es: 25\n",
      "La division de 5 / 5  es: 1.0\n",
      "5 Elevado a la  5 es:  3125\n"
     ]
    }
   ],
   "source": [
    "class Calculadora:\n",
    "    def __init__(self, num1, num2):\n",
    "        self.x = num1\n",
    "        self.y = num2\n",
    "    def Suma(self):\n",
    "        print(\"La suma de\",self.x,\"+\",self.y,\" es:\",self.x+self.y)\n",
    "    def Resta(self):\n",
    "        print(\"La resta de\",self.x,\"-\",self.y,\" es:\",self.x-self.y)\n",
    "    def Multiplicacion(self):\n",
    "        print(\"La multiplicacion de\",self.x,\"*\",self.y,\" es:\",self.x*self.y)\n",
    "    def Division(self):\n",
    "        print(\"La division de\",self.x,\"/\",self.y,\" es:\",self.x/self.y)\n",
    "    def Exponente(self):\n",
    "        print(self.x,\"Elevado a la \",self.y,\"es: \",self.x**self.y)\n",
    "\n",
    "Numero = Calculadora(5,5)    \n",
    "Numero.Suma()\n",
    "Numero.Resta()\n",
    "Numero.Multiplicacion()\n",
    "Numero.Division()\n",
    "Numero.Exponente()\n",
    "\n",
    "\n",
    "    "
   ]
  },
  {
   "cell_type": "markdown",
   "metadata": {},
   "source": [
    "# Ejercicios con estructuras básicas de python\n",
    "### Tuplas\n",
    "- Crear una variable flotante, integer, boleana y compleja e imprimir el tipo de variable que es.\n",
    "\n",
    "- Crear una tupla con valores enteros imprimir el primer y ultimo valor.\n",
    "\n",
    "- Añadir 3 valores de string a la tupla.\n",
    "\n",
    "- Verificar si una variable existe dentro de la tupla."
   ]
  },
  {
   "cell_type": "code",
   "execution_count": 108,
   "metadata": {},
   "outputs": [
    {
     "name": "stdout",
     "output_type": "stream",
     "text": [
      "La variable flotante es de tipo:  <class 'float'>\n",
      "La variable entero es de tipo:  <class 'int'>\n",
      "La variable boleana es de tipo:  <class 'bool'>\n",
      "La variable compleja es de tipo:  <class 'complex'>\n",
      "\n",
      "\n",
      "\n",
      "La tupla es:  (1, 2, 3, 4, 5, 6, 7, 8, 9, 10)\n",
      "El primer valor de la tupla es:  1\n",
      "El ultimo valor de la tupla es:  10\n",
      "\n",
      "\n",
      "\n",
      "Tupla con datos tipo string:  (1, 2, 3, 4, 5, 6, 7, 8, 9, 10, 'Leslie', 'Kevin', 'Arlette')\n",
      "\n",
      "\n",
      "\n",
      "¿Desea verificar numeros o palabras?\n",
      "1)Numeros\n",
      "2)Palabras\n",
      "2\n",
      "Introduce la variable a verificar: Kevin\n",
      "La variable Kevin esta dentro de la tupla\n"
     ]
    }
   ],
   "source": [
    "flotante = 21.21\n",
    "entero = 21\n",
    "boleana = True\n",
    "compleja = 650+5j\n",
    "\n",
    "print(\"La variable flotante es de tipo: \", type(flotante))\n",
    "print(\"La variable entero es de tipo: \", type(entero))\n",
    "print(\"La variable boleana es de tipo: \", type(boleana))\n",
    "print(\"La variable compleja es de tipo: \", type(compleja))\n",
    "\n",
    "print(\"\\n\\n\")\n",
    "tupla = (1,2,3,4,5,6,7,8,9,10)\n",
    "print(\"La tupla es: \", tupla)\n",
    "print(\"El primer valor de la tupla es: \", tupla[0])\n",
    "print(\"El ultimo valor de la tupla es: \", tupla[9])\n",
    "\n",
    "print(\"\\n\\n\")\n",
    "añadir = list(tupla)\n",
    "añadir.append(\"Leslie\")\n",
    "añadir.append(\"Kevin\")\n",
    "añadir.append(\"Arlette\")\n",
    "tupla2 = tuple(añadir)\n",
    "print(\"Tupla con datos tipo string: \", tupla2)\n",
    "\n",
    "print(\"\\n\\n\")\n",
    "verificar = int(input(\"¿Desea verificar numeros o palabras?\\n1)Numeros\\n2)Palabras\\n\"))\n",
    "if verificar == 1:\n",
    "    var = int(input(\"Introduce la variable a verificar: \"))\n",
    "    if var in tupla2:\n",
    "        print(\"La variable\",var,\"esta dentro de la tupla\")\n",
    "    else: \n",
    "        print(\"La variable no esta dentro de la tupla\")\n",
    "elif verificar == 2:\n",
    "    var = str(input(\"Introduce la variable a verificar: \"))\n",
    "    if var in tupla2:\n",
    "        print(\"La variable\",var,\"esta dentro de la tupla\")\n",
    "    else:\n",
    "        print(\"La variable no esta dentro de la tupla\")\n",
    "else:\n",
    "    print(\"Opcion no valida\")\n",
    "    \n",
    "    \n"
   ]
  },
  {
   "cell_type": "markdown",
   "metadata": {},
   "source": [
    "### Listas\n",
    "- Crear una lista con 40 elementos aleatorios enteros.\n",
    "- Con una funcion (def) crear dos listas nuevas a partir de la lista creada por numeros aleatorios, en la cual en una esten los elementos pares, y en la otra los elementos impares.\n",
    "- Crear dos variables con la longitud de ambas listas nuevas e imprimir las variables.\n",
    "- Ordenar los elementos de la lista par de mayor a menor, y los de la lista impar de menor a mayor.\n",
    "- Utilizar al menos cuatro de las funciones de listas en python en la lista original de 40 elementos."
   ]
  },
  {
   "cell_type": "code",
   "execution_count": 22,
   "metadata": {},
   "outputs": [
    {
     "name": "stdout",
     "output_type": "stream",
     "text": [
      "La lista de numeros aleatorios es:  [67, 12, 61, 49, 81, 89, 15, 88, 55, 83, 62, 87, 11, 16, 41, 67, 8, 17, 30, 68, 22, 13, 5, 92, 96, 20, 31, 79, 15, 29, 99, 55, 34, 4, 39, 16, 19, 12, 70, 68]\n",
      "\n",
      "\n",
      "\n",
      "Lista con numeros pares:  [12, 88, 62, 16, 8, 30, 68, 22, 92, 96, 20, 34, 4, 16, 12, 70, 68]\n",
      "Lista con numeros impares:  [67, 61, 49, 81, 89, 15, 55, 83, 87, 11, 41, 67, 17, 13, 5, 31, 79, 15, 29, 99, 55, 39, 19]\n",
      "\n",
      "\n",
      "\n",
      "La longitud de la lista de pares es:  17\n",
      "La longitud de la lista de impares es:  23\n",
      "\n",
      "\n",
      "\n",
      "Lista de pares ordenados de mayor a menor:  [96, 92, 88, 70, 68, 68, 62, 34, 30, 22, 20, 16, 16, 12, 12, 8, 4]\n",
      "Lista de impares ordenados de menor a mayor:  [5, 11, 13, 15, 15, 17, 19, 29, 31, 39, 41, 49, 55, 55, 61, 67, 67, 79, 81, 83, 87, 89, 99]\n",
      "\n",
      "\n",
      "\n",
      "Lista con un dato añadido:  [67, 12, 61, 49, 81, 89, 15, 88, 55, 83, 'Leslie', 62, 87, 11, 16, 41, 67, 8, 17, 30, 68, 22, 13, 5, 92, 96, 20, 31, 79, 15, 29, 99, 55, 34, 4, 39, 16, 19, 12, 70, 68]\n",
      "\n",
      "La palabra Leslie se encuentra en el indice:  10\n",
      "\n",
      "Lista con el dato Leslie eliminado:  [67, 12, 61, 49, 81, 89, 15, 88, 55, 83, 62, 87, 11, 16, 41, 67, 8, 17, 30, 68, 22, 13, 5, 92, 96, 20, 31, 79, 15, 29, 99, 55, 34, 4, 39, 16, 19, 12, 70, 68]\n",
      "\n",
      "Listas combinadas:  [67, 12, 61, 49, 81, 89, 15, 88, 55, 83, 62, 87, 11, 16, 41, 67, 8, 17, 30, 68, 22, 13, 5, 92, 96, 20, 31, 79, 15, 29, 99, 55, 34, 4, 39, 16, 19, 12, 70, 68, 1000, 1001, 1002]\n"
     ]
    }
   ],
   "source": [
    "import random as r\n",
    "listaleatoria = []\n",
    "for i in range(0,40):\n",
    "    num = r.randint(1,100)\n",
    "    listaleatoria.append(num)\n",
    "print(\"La lista de numeros aleatorios es: \", listaleatoria)    \n",
    "\n",
    "def lista(listaleatoria):\n",
    "    pares =[]\n",
    "    impares =[]\n",
    "    for x in listaleatoria:\n",
    "        if x%2 == 0:\n",
    "            num1 = x\n",
    "            pares.append(num1)\n",
    "        else: \n",
    "            num2 = x\n",
    "            impares.append(num2)\n",
    "    print(\"\\n\\n\")\n",
    "    print(\"Lista con numeros pares: \",pares)\n",
    "    print(\"Lista con numeros impares: \",impares)\n",
    "    \n",
    "    LongitudPar = len(pares)\n",
    "    LongitudImp = len(impares)\n",
    "    print(\"\\n\\n\")\n",
    "    print(\"La longitud de la lista de pares es: \", LongitudPar)\n",
    "    print(\"La longitud de la lista de impares es: \", LongitudImp)\n",
    "    \n",
    "    pares.sort()\n",
    "    pares.reverse()\n",
    "    print(\"\\n\\n\")\n",
    "    print(\"Lista de pares ordenados de mayor a menor: \",pares)\n",
    "    impares.sort()\n",
    "    print(\"Lista de impares ordenados de menor a mayor: \",impares)\n",
    "    \n",
    "    listaleatoria.insert(10, \"Leslie\")\n",
    "    print(\"\\n\\n\")\n",
    "    print(\"Lista con un dato añadido: \", listaleatoria)\n",
    "    index = listaleatoria.index(\"Leslie\")\n",
    "    print(\"\\nLa palabra Leslie se encuentra en el indice: \", index)\n",
    "    listaleatoria.pop(index)\n",
    "    print(\"\\nLista con el dato Leslie eliminado: \", listaleatoria)\n",
    "    listaleatoria.extend([1000,1001,1002])\n",
    "    print(\"\\nListas combinadas: \", listaleatoria)\n",
    "    \n",
    "    \n",
    "lista(listaleatoria)\n"
   ]
  },
  {
   "cell_type": "markdown",
   "metadata": {},
   "source": [
    "### Diccionarios\n",
    "- Crear un diccionario de 6 personas que conozcas con su primer nombre y su edad.\n",
    "- Crear una lista con los valores de la edad y reacomodar la lista de menor a mayor valor.\n",
    "- Usando el diccionario y un loop, imprimir solo los nombres.\n",
    "- Añadir dos personas nuevas a tu diccionario, incluyendo edad."
   ]
  },
  {
   "cell_type": "code",
   "execution_count": 94,
   "metadata": {},
   "outputs": [
    {
     "name": "stdout",
     "output_type": "stream",
     "text": [
      "Diccionario:  {'Leslie': 21, 'Kevin': 22, 'Miguel': 16, 'Veronica': 48, 'Ximena': 12, 'Arlette': 20}\n",
      "\n",
      "\n",
      "\n",
      "Edades:  [12, 16, 20, 21, 22, 48]\n",
      "\n",
      "\n",
      "\n",
      "Nombres: \n",
      "Leslie\n",
      "Kevin\n",
      "Miguel\n",
      "Veronica\n",
      "Ximena\n",
      "Arlette\n",
      "\n",
      "\n",
      "\n",
      "Diccionario con 2 personas añadidas:\n",
      " {'Leslie': 21, 'Kevin': 22, 'Miguel': 16, 'Veronica': 48, 'Ximena': 12, 'Arlette': 20, 'Areli': 22, 'Nadia': 21}\n"
     ]
    }
   ],
   "source": [
    "dict1 = {'Leslie':21,'Kevin':22,'Miguel':16,'Veronica':48,'Ximena':12,'Arlette':20}\n",
    "print(\"Diccionario: \", dict1)\n",
    "\n",
    "print(\"\\n\\n\")\n",
    "edades = list(dict1.values())\n",
    "edades.sort()\n",
    "print(\"Edades: \", edades)\n",
    "\n",
    "print(\"\\n\\n\")\n",
    "nombres = list(dict1.keys())\n",
    "print(\"Nombres: \")\n",
    "for i in nombres:\n",
    "    print(i)\n",
    "    \n",
    "print(\"\\n\\n\")\n",
    "dict1['Areli'] = 22\n",
    "dict1['Nadia'] = 21\n",
    "print(\"Diccionario con 2 personas añadidas:\\n\", dict1)\n"
   ]
  },
  {
   "cell_type": "markdown",
   "metadata": {},
   "source": [
    "### Sets\n",
    "- Crea un set con 100 numeros aleatorios enteros del 1 al 25.\n",
    "- Comprueba la longitud de tu set.\n",
    "- Crea una lista de 5 numeros aleatorios del 1 al 10 y comprueba si cada valor aparece en el set inicial."
   ]
  },
  {
   "cell_type": "code",
   "execution_count": 102,
   "metadata": {},
   "outputs": [
    {
     "name": "stdout",
     "output_type": "stream",
     "text": [
      "El set de numeros aleatorios es:  {1, 2, 3, 4, 5, 6, 7, 8, 9, 10, 11, 12, 13, 14, 15, 16, 17, 18, 19, 20, 21, 22, 23, 24, 25}\n",
      "\n",
      "\n",
      "\n",
      "La longitud del set es:  25\n",
      "\n",
      "\n",
      "\n",
      "La lista de numeros aleatorios es:  [4, 5, 5, 9, 3]\n",
      "El numero 4 aparece en el set inicial\n",
      "El numero 5 aparece en el set inicial\n",
      "El numero 5 aparece en el set inicial\n",
      "El numero 9 aparece en el set inicial\n",
      "El numero 3 aparece en el set inicial\n"
     ]
    }
   ],
   "source": [
    "import random as r\n",
    "set1 = set()\n",
    "for i in range(100):\n",
    "    num1 = r.randint(1,25)\n",
    "    set1.add(num1)\n",
    "print(\"El set de numeros aleatorios es: \", set1)  #Los sets no añaden valores duplicados\n",
    "\n",
    "print(\"\\n\\n\")\n",
    "Longitud = len(set1)\n",
    "print(\"La longitud del set es: \", Longitud)\n",
    "\n",
    "print(\"\\n\\n\")\n",
    "lista2 = []\n",
    "for i in range(0,5):\n",
    "    num2 = r.randint(1,10)\n",
    "    lista2.append(num2)\n",
    "print(\"La lista de numeros aleatorios es: \", lista2)  \n",
    "\n",
    "for j in range(0,5):\n",
    "    comparar = lista2[j] in set1\n",
    "    if comparar == True:\n",
    "        print(\"El numero\",lista2[j], \"aparece en el set inicial\")\n",
    "    else:\n",
    "        print(\"El numero\",lista2[j],\"NO aparece en el set incial\")"
   ]
  }
 ],
 "metadata": {
  "kernelspec": {
   "display_name": "Python 3",
   "language": "python",
   "name": "python3"
  },
  "language_info": {
   "codemirror_mode": {
    "name": "ipython",
    "version": 3
   },
   "file_extension": ".py",
   "mimetype": "text/x-python",
   "name": "python",
   "nbconvert_exporter": "python",
   "pygments_lexer": "ipython3",
   "version": "3.8.5"
  }
 },
 "nbformat": 4,
 "nbformat_minor": 4
}
